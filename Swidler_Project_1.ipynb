{
  "nbformat": 4,
  "nbformat_minor": 0,
  "metadata": {
    "colab": {
      "name": "Swidler - Project 1.ipynb",
      "provenance": []
    },
    "kernelspec": {
      "name": "python3",
      "display_name": "Python 3"
    }
  },
  "cells": [
    {
      "cell_type": "markdown",
      "metadata": {
        "id": "F9AOhxuO9Vt7"
      },
      "source": [
        "# Project \\#1 Code: \n",
        "### Lucas Swidler\n",
        "\n",
        "The data I will be using is: \n",
        "- [Heart Failure Prediction](https://www.kaggle.com/fedesoriano/heart-failure-prediction)"
      ]
    },
    {
      "cell_type": "code",
      "metadata": {
        "colab": {
          "base_uri": "https://localhost:8080/",
          "height": 245
        },
        "id": "5N97IBe79Mfp",
        "outputId": "09cb0af3-886a-4164-9097-eb04899dba34"
      },
      "source": [
        "from google.colab import drive\n",
        "import pandas as pd\n",
        "import numpy\n",
        "import sklearn\n",
        "from sklearn.ensemble import RandomForestClassifier\n",
        "from sklearn import neighbors\n",
        "from sklearn import tree\n",
        "from sklearn import metrics\n",
        "from sklearn.metrics import accuracy_score\n",
        "from sklearn.metrics import confusion_matrix\n",
        "from sklearn.dummy import DummyClassifier\n",
        "from sklearn.model_selection import train_test_split\n",
        "drive.mount('/content/drive')\n",
        "heart = pd.read_csv('/content/drive/MyDrive/CS167/heart.csv')\n",
        "heart.head()"
      ],
      "execution_count": null,
      "outputs": [
        {
          "output_type": "stream",
          "name": "stdout",
          "text": [
            "Drive already mounted at /content/drive; to attempt to forcibly remount, call drive.mount(\"/content/drive\", force_remount=True).\n"
          ]
        },
        {
          "output_type": "execute_result",
          "data": {
            "text/html": [
              "<div>\n",
              "<style scoped>\n",
              "    .dataframe tbody tr th:only-of-type {\n",
              "        vertical-align: middle;\n",
              "    }\n",
              "\n",
              "    .dataframe tbody tr th {\n",
              "        vertical-align: top;\n",
              "    }\n",
              "\n",
              "    .dataframe thead th {\n",
              "        text-align: right;\n",
              "    }\n",
              "</style>\n",
              "<table border=\"1\" class=\"dataframe\">\n",
              "  <thead>\n",
              "    <tr style=\"text-align: right;\">\n",
              "      <th></th>\n",
              "      <th>Age</th>\n",
              "      <th>Sex</th>\n",
              "      <th>ChestPainType</th>\n",
              "      <th>RestingBP</th>\n",
              "      <th>Cholesterol</th>\n",
              "      <th>FastingBS</th>\n",
              "      <th>RestingECG</th>\n",
              "      <th>MaxHR</th>\n",
              "      <th>ExerciseAngina</th>\n",
              "      <th>Oldpeak</th>\n",
              "      <th>ST_Slope</th>\n",
              "      <th>HeartDisease</th>\n",
              "    </tr>\n",
              "  </thead>\n",
              "  <tbody>\n",
              "    <tr>\n",
              "      <th>0</th>\n",
              "      <td>40</td>\n",
              "      <td>M</td>\n",
              "      <td>ATA</td>\n",
              "      <td>140</td>\n",
              "      <td>289</td>\n",
              "      <td>0</td>\n",
              "      <td>Normal</td>\n",
              "      <td>172</td>\n",
              "      <td>N</td>\n",
              "      <td>0.0</td>\n",
              "      <td>Up</td>\n",
              "      <td>0</td>\n",
              "    </tr>\n",
              "    <tr>\n",
              "      <th>1</th>\n",
              "      <td>49</td>\n",
              "      <td>F</td>\n",
              "      <td>NAP</td>\n",
              "      <td>160</td>\n",
              "      <td>180</td>\n",
              "      <td>0</td>\n",
              "      <td>Normal</td>\n",
              "      <td>156</td>\n",
              "      <td>N</td>\n",
              "      <td>1.0</td>\n",
              "      <td>Flat</td>\n",
              "      <td>1</td>\n",
              "    </tr>\n",
              "    <tr>\n",
              "      <th>2</th>\n",
              "      <td>37</td>\n",
              "      <td>M</td>\n",
              "      <td>ATA</td>\n",
              "      <td>130</td>\n",
              "      <td>283</td>\n",
              "      <td>0</td>\n",
              "      <td>ST</td>\n",
              "      <td>98</td>\n",
              "      <td>N</td>\n",
              "      <td>0.0</td>\n",
              "      <td>Up</td>\n",
              "      <td>0</td>\n",
              "    </tr>\n",
              "    <tr>\n",
              "      <th>3</th>\n",
              "      <td>48</td>\n",
              "      <td>F</td>\n",
              "      <td>ASY</td>\n",
              "      <td>138</td>\n",
              "      <td>214</td>\n",
              "      <td>0</td>\n",
              "      <td>Normal</td>\n",
              "      <td>108</td>\n",
              "      <td>Y</td>\n",
              "      <td>1.5</td>\n",
              "      <td>Flat</td>\n",
              "      <td>1</td>\n",
              "    </tr>\n",
              "    <tr>\n",
              "      <th>4</th>\n",
              "      <td>54</td>\n",
              "      <td>M</td>\n",
              "      <td>NAP</td>\n",
              "      <td>150</td>\n",
              "      <td>195</td>\n",
              "      <td>0</td>\n",
              "      <td>Normal</td>\n",
              "      <td>122</td>\n",
              "      <td>N</td>\n",
              "      <td>0.0</td>\n",
              "      <td>Up</td>\n",
              "      <td>0</td>\n",
              "    </tr>\n",
              "  </tbody>\n",
              "</table>\n",
              "</div>"
            ],
            "text/plain": [
              "   Age Sex ChestPainType  ...  Oldpeak  ST_Slope  HeartDisease\n",
              "0   40   M           ATA  ...      0.0        Up             0\n",
              "1   49   F           NAP  ...      1.0      Flat             1\n",
              "2   37   M           ATA  ...      0.0        Up             0\n",
              "3   48   F           ASY  ...      1.5      Flat             1\n",
              "4   54   M           NAP  ...      0.0        Up             0\n",
              "\n",
              "[5 rows x 12 columns]"
            ]
          },
          "metadata": {},
          "execution_count": 11
        }
      ]
    },
    {
      "cell_type": "markdown",
      "metadata": {
        "id": "7SfueFgsNdNt"
      },
      "source": [
        "# Problem: \n",
        "Which dataset are you going to use? What questions are you going to ask about this dataset? Make sure that you can answer the question using ML models. What are your predictor variables and target variable?\n",
        "\n",
        "*I'm going to be using the heart disease dataset. What are the most important predictor variables for determining whether or not someone has heart disease? Given the data, how accurate can machine learning models be at predicting heart disease?*\n",
        "\n",
        "*My target variable is going to be HeartDisease, which is either 1 or 0, and my predictor variables are going to be every other column, like Age, Sex, ChestPainType, RestingBP, Cholesterol, and more.*"
      ]
    },
    {
      "cell_type": "markdown",
      "metadata": {
        "id": "yM_lNmrrNw6S"
      },
      "source": [
        "# Data Preparation\n",
        "Explain your data prep. What did you do to get your data in the shape for your experiments? (e.g. creation of dummy variables, filling in missing values, etc). \n",
        "\n",
        "*First, I checked the dataset to see if there were any missing values. Luckily, there weren't any so I was able to save time. Next, I created dummy variables for the 5 categorial predictor variables, which were Sex, ChestPainType, RestingECG, ExerciseAngina, and ST_Slope. Lastly, I normalized the predictor variables that seemed to have larger ranges of values so as to not skew the results. These were Age, RestingBP, Cholesterol, and MaxHR. With this, each variable is numerical while being on a scale that is generally around 0.*"
      ]
    },
    {
      "cell_type": "code",
      "metadata": {
        "id": "S-L1vVEe90YD",
        "colab": {
          "base_uri": "https://localhost:8080/",
          "height": 245
        },
        "outputId": "acde4d14-9181-47f5-afa2-0ccf95bc5cce"
      },
      "source": [
        "# Checking for missing values\n",
        "print('Are there missing values?', heart.columns.isna())\n",
        "\n",
        "# Creating any dummy variables\n",
        "# Columns needed to change are Sex, ChestPainType, RestingECG, ExerciseAngina, ST_Slope\n",
        "heart_dummies = pd.get_dummies(heart, columns = ['Sex', 'ChestPainType', 'RestingECG', 'ExerciseAngina', 'ST_Slope'])\n",
        "heart_dummies.head()\n",
        "\n",
        "# Normalizing columns\n",
        "# Columns that need to be normalized are Age, RestingBP, Cholesterol, and MaxHR\n",
        "a_mean = heart_dummies['Age'].mean()\n",
        "a_std = heart_dummies['Age'].std()\n",
        "heart_dummies['Age'] = (heart_dummies['Age'] - a_mean)/a_std\n",
        "\n",
        "r_mean = heart_dummies['RestingBP'].mean()\n",
        "r_std = heart_dummies['RestingBP'].std()\n",
        "heart_dummies['RestingBP'] = (heart_dummies['RestingBP'] - r_mean)/r_std\n",
        "\n",
        "c_mean = heart_dummies['Cholesterol'].mean()\n",
        "c_std = heart_dummies['Cholesterol'].std()\n",
        "heart_dummies['Cholesterol'] = (heart_dummies['Cholesterol'] - c_mean)/c_std\n",
        "\n",
        "m_mean = heart_dummies['MaxHR'].mean()\n",
        "m_std = heart_dummies['MaxHR'].std()\n",
        "heart_dummies['MaxHR'] = (heart_dummies['MaxHR'] - m_mean)/m_std\n",
        "\n",
        "# Due to an issue with creating the confusion matrix, I will change the target column to strings instead of integers\n",
        "heart_dummies['HeartDisease'] = heart_dummies['HeartDisease'].replace(to_replace=0, value='False')\n",
        "heart_dummies['HeartDisease'] = heart_dummies['HeartDisease'].replace(to_replace=1, value='True')\n",
        "\n",
        "heart_dummies.head()"
      ],
      "execution_count": null,
      "outputs": [
        {
          "output_type": "stream",
          "name": "stdout",
          "text": [
            "Are there missing values? [False False False False False False False False False False False False]\n"
          ]
        },
        {
          "output_type": "execute_result",
          "data": {
            "text/html": [
              "<div>\n",
              "<style scoped>\n",
              "    .dataframe tbody tr th:only-of-type {\n",
              "        vertical-align: middle;\n",
              "    }\n",
              "\n",
              "    .dataframe tbody tr th {\n",
              "        vertical-align: top;\n",
              "    }\n",
              "\n",
              "    .dataframe thead th {\n",
              "        text-align: right;\n",
              "    }\n",
              "</style>\n",
              "<table border=\"1\" class=\"dataframe\">\n",
              "  <thead>\n",
              "    <tr style=\"text-align: right;\">\n",
              "      <th></th>\n",
              "      <th>Age</th>\n",
              "      <th>RestingBP</th>\n",
              "      <th>Cholesterol</th>\n",
              "      <th>FastingBS</th>\n",
              "      <th>MaxHR</th>\n",
              "      <th>Oldpeak</th>\n",
              "      <th>HeartDisease</th>\n",
              "      <th>Sex_F</th>\n",
              "      <th>Sex_M</th>\n",
              "      <th>ChestPainType_ASY</th>\n",
              "      <th>ChestPainType_ATA</th>\n",
              "      <th>ChestPainType_NAP</th>\n",
              "      <th>ChestPainType_TA</th>\n",
              "      <th>RestingECG_LVH</th>\n",
              "      <th>RestingECG_Normal</th>\n",
              "      <th>RestingECG_ST</th>\n",
              "      <th>ExerciseAngina_N</th>\n",
              "      <th>ExerciseAngina_Y</th>\n",
              "      <th>ST_Slope_Down</th>\n",
              "      <th>ST_Slope_Flat</th>\n",
              "      <th>ST_Slope_Up</th>\n",
              "    </tr>\n",
              "  </thead>\n",
              "  <tbody>\n",
              "    <tr>\n",
              "      <th>0</th>\n",
              "      <td>-1.432359</td>\n",
              "      <td>0.410685</td>\n",
              "      <td>0.824621</td>\n",
              "      <td>0</td>\n",
              "      <td>1.382175</td>\n",
              "      <td>0.0</td>\n",
              "      <td>False</td>\n",
              "      <td>0</td>\n",
              "      <td>1</td>\n",
              "      <td>0</td>\n",
              "      <td>1</td>\n",
              "      <td>0</td>\n",
              "      <td>0</td>\n",
              "      <td>0</td>\n",
              "      <td>1</td>\n",
              "      <td>0</td>\n",
              "      <td>1</td>\n",
              "      <td>0</td>\n",
              "      <td>0</td>\n",
              "      <td>0</td>\n",
              "      <td>1</td>\n",
              "    </tr>\n",
              "    <tr>\n",
              "      <th>1</th>\n",
              "      <td>-0.478223</td>\n",
              "      <td>1.490940</td>\n",
              "      <td>-0.171867</td>\n",
              "      <td>0</td>\n",
              "      <td>0.753746</td>\n",
              "      <td>1.0</td>\n",
              "      <td>True</td>\n",
              "      <td>1</td>\n",
              "      <td>0</td>\n",
              "      <td>0</td>\n",
              "      <td>0</td>\n",
              "      <td>1</td>\n",
              "      <td>0</td>\n",
              "      <td>0</td>\n",
              "      <td>1</td>\n",
              "      <td>0</td>\n",
              "      <td>1</td>\n",
              "      <td>0</td>\n",
              "      <td>0</td>\n",
              "      <td>1</td>\n",
              "      <td>0</td>\n",
              "    </tr>\n",
              "    <tr>\n",
              "      <th>2</th>\n",
              "      <td>-1.750404</td>\n",
              "      <td>-0.129442</td>\n",
              "      <td>0.769768</td>\n",
              "      <td>0</td>\n",
              "      <td>-1.524307</td>\n",
              "      <td>0.0</td>\n",
              "      <td>False</td>\n",
              "      <td>0</td>\n",
              "      <td>1</td>\n",
              "      <td>0</td>\n",
              "      <td>1</td>\n",
              "      <td>0</td>\n",
              "      <td>0</td>\n",
              "      <td>0</td>\n",
              "      <td>0</td>\n",
              "      <td>1</td>\n",
              "      <td>1</td>\n",
              "      <td>0</td>\n",
              "      <td>0</td>\n",
              "      <td>0</td>\n",
              "      <td>1</td>\n",
              "    </tr>\n",
              "    <tr>\n",
              "      <th>3</th>\n",
              "      <td>-0.584238</td>\n",
              "      <td>0.302660</td>\n",
              "      <td>0.138964</td>\n",
              "      <td>0</td>\n",
              "      <td>-1.131539</td>\n",
              "      <td>1.5</td>\n",
              "      <td>True</td>\n",
              "      <td>1</td>\n",
              "      <td>0</td>\n",
              "      <td>1</td>\n",
              "      <td>0</td>\n",
              "      <td>0</td>\n",
              "      <td>0</td>\n",
              "      <td>0</td>\n",
              "      <td>1</td>\n",
              "      <td>0</td>\n",
              "      <td>0</td>\n",
              "      <td>1</td>\n",
              "      <td>0</td>\n",
              "      <td>1</td>\n",
              "      <td>0</td>\n",
              "    </tr>\n",
              "    <tr>\n",
              "      <th>4</th>\n",
              "      <td>0.051853</td>\n",
              "      <td>0.950812</td>\n",
              "      <td>-0.034736</td>\n",
              "      <td>0</td>\n",
              "      <td>-0.581664</td>\n",
              "      <td>0.0</td>\n",
              "      <td>False</td>\n",
              "      <td>0</td>\n",
              "      <td>1</td>\n",
              "      <td>0</td>\n",
              "      <td>0</td>\n",
              "      <td>1</td>\n",
              "      <td>0</td>\n",
              "      <td>0</td>\n",
              "      <td>1</td>\n",
              "      <td>0</td>\n",
              "      <td>1</td>\n",
              "      <td>0</td>\n",
              "      <td>0</td>\n",
              "      <td>0</td>\n",
              "      <td>1</td>\n",
              "    </tr>\n",
              "  </tbody>\n",
              "</table>\n",
              "</div>"
            ],
            "text/plain": [
              "        Age  RestingBP  Cholesterol  ...  ST_Slope_Down  ST_Slope_Flat  ST_Slope_Up\n",
              "0 -1.432359   0.410685     0.824621  ...              0              0            1\n",
              "1 -0.478223   1.490940    -0.171867  ...              0              1            0\n",
              "2 -1.750404  -0.129442     0.769768  ...              0              0            1\n",
              "3 -0.584238   0.302660     0.138964  ...              0              1            0\n",
              "4  0.051853   0.950812    -0.034736  ...              0              0            1\n",
              "\n",
              "[5 rows x 21 columns]"
            ]
          },
          "metadata": {},
          "execution_count": 12
        }
      ]
    },
    {
      "cell_type": "markdown",
      "metadata": {
        "id": "y3ha10SpN27E"
      },
      "source": [
        "# Metrics\n",
        "Identify which metrics you will be using to test your model and say why they are appropriate.\n",
        "\n",
        "*I'll be using accuracy as well as a confusion matrix to test this model. As the target variable is categorial, it does not make sense to use a regression metric like MAE, MSE, or R squared. As Accuracy doesn't let you see false positives or false negatives, a confusion matrix will be used as well.*"
      ]
    },
    {
      "cell_type": "markdown",
      "metadata": {
        "id": "67v8fsFBN7TR"
      },
      "source": [
        "# Baseline Performance\n",
        "Identify a baseline for your metrics - what would you expect to happen with this particular data if you always guessed the average or if you guessed randomly? What did some of the unsuccessful machine learning algorithms yield?\n",
        "\n",
        "Some helpful links:\n",
        "- [Sklearn Dummy Regressor](https://scikit-learn.org/stable/modules/generated/sklearn.dummy.DummyRegressor.html)\n",
        "\n",
        "*For a baseline, I used a classifier dummy to match the target variable. I tested 3 different guessing methods for the dummy - guesses based on the distribution of the target variable, random guesses, and constant guesses. I expected all of them to be around an accuracy of 0.5, or about a 50% chance of being correct. They ended up yielding values of 0.505, 0.5 exactly, and 0.52. None of these were far from the 50% chance I was predicting.*"
      ]
    },
    {
      "cell_type": "code",
      "metadata": {
        "id": "mGE56w6bN5_N",
        "colab": {
          "base_uri": "https://localhost:8080/"
        },
        "outputId": "31304f94-2225-4805-dd5a-3e4af9f7ef75"
      },
      "source": [
        "# Splitting the data\n",
        "target = 'HeartDisease'\n",
        "predictors = heart_dummies.columns.drop(target)\n",
        "train_data, test_data, train_sln, test_sln = train_test_split(heart_dummies[predictors], heart_dummies[target], test_size = 0.2, random_state = 4)\n",
        "\n",
        "dummy_clf = DummyClassifier(strategy = 'stratified') # Making guesses based on target distribution\n",
        "dummy_clf.fit(train_data, train_sln)\n",
        "preds1 = dummy_clf.predict(test_data)\n",
        "\n",
        "dummy_clf = DummyClassifier(strategy = 'uniform') # Making random guesses\n",
        "dummy_clf.fit(train_data, train_sln)\n",
        "preds2 = dummy_clf.predict(test_data)\n",
        "\n",
        "dummy_clf = DummyClassifier(strategy = 'most_frequent') # Always guesses the most common answer\n",
        "dummy_clf.fit(train_data, train_sln)\n",
        "preds3 = dummy_clf.predict(test_data)\n",
        "\n",
        "print('Stratified Accuracy: ', accuracy_score(test_sln, preds1))\n",
        "print('Random Accuracy: ', accuracy_score(test_sln, preds2))\n",
        "print('Most Frequent Result Accuracy: ', accuracy_score(test_sln, preds3))"
      ],
      "execution_count": null,
      "outputs": [
        {
          "output_type": "stream",
          "name": "stdout",
          "text": [
            "Stratified Accuracy:  0.5217391304347826\n",
            "Random Accuracy:  0.47282608695652173\n",
            "Most Frequent Result Accuracy:  0.5217391304347826\n"
          ]
        }
      ]
    },
    {
      "cell_type": "markdown",
      "metadata": {
        "id": "bot75U5WOLLT"
      },
      "source": [
        "# Model planning and Execution\n",
        "Identify which learning algorithms you have tried and which important parameters you’ve tuned for each one.\n"
      ]
    },
    {
      "cell_type": "code",
      "metadata": {
        "colab": {
          "base_uri": "https://localhost:8080/"
        },
        "id": "LZJBYPi3nooo",
        "outputId": "48ff35e9-ccdc-4e2a-83ae-0b6d39916115"
      },
      "source": [
        "# kNN\n",
        "knn = neighbors.KNeighborsClassifier(n_neighbors = 30)\n",
        "knn.fit(train_data, train_sln)\n",
        "knn_predictions = knn.predict(test_data)\n",
        "print('KNN Accuracy: ', metrics.accuracy_score(test_sln, knn_predictions))\n",
        "\n",
        "# Print the Confusion Matrix for the  k nearest neighbors\n",
        "knn_vals = heart_dummies[target].unique() # Gives the possibilities for the target variable, HeartDisease - True or False\n",
        "knn_conf_mat = metrics.confusion_matrix(test_sln, knn_predictions, labels = knn_vals)\n",
        "print(pd.DataFrame(knn_conf_mat, index = \"Actual \" + knn_vals, columns = \"Predicted \" + knn_vals))\n",
        "\n",
        "print('\\n')\n",
        "# Decision Tree\n",
        "dt = tree.DecisionTreeClassifier(max_features = 20, random_state = 41)\n",
        "dt.fit(train_data,train_sln)\n",
        "dt_predictions = dt.predict(test_data)\n",
        "print(\"DT Accuracy:\", metrics.accuracy_score(test_sln, dt_predictions))\n",
        "\n",
        "# Print the Confusion Matrix for the decision tree\n",
        "dt_vals = heart_dummies[target].unique() # Gives the possibilities for the target variable, HeartDisease - True or False\n",
        "dt_conf_mat = metrics.confusion_matrix(test_sln, dt_predictions, labels = dt_vals)\n",
        "print(pd.DataFrame(dt_conf_mat, index = \"Actual \" + dt_vals, columns = \"Predicted \" + dt_vals))"
      ],
      "execution_count": null,
      "outputs": [
        {
          "output_type": "stream",
          "name": "stdout",
          "text": [
            "KNN Accuracy:  0.9130434782608695\n",
            "              Predicted False  Predicted True\n",
            "Actual False               77              11\n",
            "Actual True                 5              91\n",
            "\n",
            "\n",
            "DT Accuracy: 0.8315217391304348\n",
            "              Predicted False  Predicted True\n",
            "Actual False               72              16\n",
            "Actual True                15              81\n"
          ]
        }
      ]
    },
    {
      "cell_type": "code",
      "metadata": {
        "id": "oTqOhnnGOQOZ",
        "colab": {
          "base_uri": "https://localhost:8080/"
        },
        "outputId": "6bf9b05a-9ab4-4f93-946d-04830fa804a5"
      },
      "source": [
        "# Build the Random Forest\n",
        "forest = RandomForestClassifier(random_state = 11, n_estimators = 100)\n",
        "forest.fit(train_data,train_sln)\n",
        "forest_predictions = forest.predict(test_data)\n",
        "print('Random Forest Accuracy: ', metrics.accuracy_score(test_sln, forest_predictions))\n",
        "\n",
        "# Print the Confusion Matrix for the random forest\n",
        "forest_vals = heart_dummies[target].unique() # Gives the possibilities for the target variable, HeartDisease - True or False\n",
        "forest_conf_mat = metrics.confusion_matrix(test_sln, forest_predictions, labels = forest_vals)\n",
        "print(pd.DataFrame(forest_conf_mat, index = \"Actual \" + forest_vals, columns = \"Predicted \" + forest_vals))\n",
        "\n",
        "print('\\n')\n",
        "# Using wKNN for predictions\n",
        "wknn = neighbors.KNeighborsClassifier(n_neighbors = 30, weights = 'distance')\n",
        "wknn.fit(train_data, train_sln)\n",
        "wknn_predictions = wknn.predict(test_data)\n",
        "print('wKNN Accuracy: ', metrics.accuracy_score(test_sln, wknn_predictions))\n",
        "\n",
        "# Print the Confusion Matrix for the weighted k nearest neighbors\n",
        "wknn_vals = heart_dummies[target].unique() # Gives the possibilities for the target variable, HeartDisease - True or False\n",
        "wknn_conf_mat = metrics.confusion_matrix(test_sln, wknn_predictions, labels = wknn_vals)\n",
        "print(pd.DataFrame(wknn_conf_mat, index = \"Actual \" + wknn_vals, columns = \"Predicted \" + wknn_vals))"
      ],
      "execution_count": null,
      "outputs": [
        {
          "output_type": "stream",
          "name": "stdout",
          "text": [
            "Random Forest Accuracy:  0.8804347826086957\n",
            "              Predicted False  Predicted True\n",
            "Actual False               72              16\n",
            "Actual True                 6              90\n",
            "\n",
            "\n",
            "wKNN Accuracy:  0.9130434782608695\n",
            "              Predicted False  Predicted True\n",
            "Actual False               77              11\n",
            "Actual True                 5              91\n"
          ]
        }
      ]
    },
    {
      "cell_type": "markdown",
      "metadata": {
        "id": "kMaqpNm4O9Qy"
      },
      "source": [
        "# Results\n",
        "After you conduct your learning experiment, summarize the results you got. Include visualizations (i.e. graphs) where appropriate.  How did you find the best k, n, m or other variables that you needed to tune?\n",
        "\n",
        "*To conclude, my random forest produced an accuracy of 0.88 with 16 false positives and 6 false negatives. My weighted k nearest neighbors had an accuracy of 0.91, with fewer false positives and negatives which were 11 and 5 respectively.*\n",
        "\n",
        "*As for my knn and decision tree, both of those had similar accuracies to wknn and the random forest. While the knn actually had an identical confusion matrix to wknn, the decision tree was far less accurate than the other models. I tuned the max_features parameter which did increase the accuracy slightly.*\n",
        "\n",
        "*I created the following visualizations/graphs to help answer some of the questions I had initially.*"
      ]
    },
    {
      "cell_type": "code",
      "metadata": {
        "id": "5X_7-hMLPB-Z",
        "colab": {
          "base_uri": "https://localhost:8080/",
          "height": 606
        },
        "outputId": "ddcbd5e8-5e9f-4a1d-a11f-a3b6b5acafee"
      },
      "source": [
        "# Which feature is the most important for the random forest?\n",
        "import matplotlib.pyplot as plt\n",
        "%matplotlib inline\n",
        "\n",
        "index = range(len(predictors)) # Creates a list of numbers the right size to use as the index\n",
        "\n",
        "plt.figure(figsize=(8,10)) # Size of the graph\n",
        "plt.barh(index,forest.feature_importances_,height=0.8)\n",
        "plt.ylabel('Feature')\n",
        "plt.yticks(index,predictors) # Feature names\n",
        "plt.xlabel(\"Random Forest Feature Importance\")\n",
        "plt.show()"
      ],
      "execution_count": null,
      "outputs": [
        {
          "output_type": "display_data",
          "data": {
            "image/png": "[encoded data removed]",
            "text/plain": [
              "<Figure size 576x720 with 1 Axes>"
            ]
          },
          "metadata": {
            "needs_background": "light"
          }
        }
      ]
    },
    {
      "cell_type": "code",
      "metadata": {
        "colab": {
          "base_uri": "https://localhost:8080/",
          "height": 326
        },
        "id": "PCyojM8TU7Cx",
        "outputId": "37f27cf3-f65d-4b34-b5a8-f10a29182839"
      },
      "source": [
        "# What should K be in weighted k nearest neighbors?\n",
        "range_k = range(1, 50, 5)\n",
        "k_accuracies = []\n",
        "\n",
        "for k in range_k:\n",
        "  curr_k = neighbors.KNeighborsClassifier(n_neighbors = k, weights = 'distance')\n",
        "  curr_k.fit(train_data, train_sln)\n",
        "  curr_predictions = curr_k.predict(test_data)\n",
        "  curr_accuracy = metrics.accuracy_score(test_sln, curr_predictions)\n",
        "  k_accuracies.append(curr_accuracy)\n",
        "\n",
        "# Graphing the results\n",
        "plt.suptitle('wKNN Accuracy vs. Value of K',fontsize = 18)\n",
        "plt.xlabel('K Value')\n",
        "plt.ylabel('Accuracy')\n",
        "plt.plot(range_k, k_accuracies,'bo-')\n",
        "plt.axis([0,range_k[-1]+1,.8,1])\n",
        "plt.show()\n",
        "\n",
        "print('The most accurate K value was', max(k_accuracies))"
      ],
      "execution_count": null,
      "outputs": [
        {
          "output_type": "display_data",
          "data": {
            "image/png": "[encoded data removed]",
            "text/plain": [
              "<Figure size 432x288 with 1 Axes>"
            ]
          },
          "metadata": {
            "needs_background": "light"
          }
        },
        {
          "output_type": "stream",
          "name": "stdout",
          "text": [
            "The most accurate K value was 0.9184782608695652\n"
          ]
        }
      ]
    },
    {
      "cell_type": "code",
      "metadata": {
        "colab": {
          "base_uri": "https://localhost:8080/",
          "height": 326
        },
        "id": "3p5RYl5IoKyj",
        "outputId": "57decc18-e477-4011-e239-c7f1a01d9f87"
      },
      "source": [
        "# What should K be in regular k nearest neighbors?\n",
        "range_k = range(1, 50, 5)\n",
        "k_accuracies = []\n",
        "\n",
        "for k in range_k:\n",
        "  curr_k = neighbors.KNeighborsClassifier(n_neighbors = k)\n",
        "  curr_k.fit(train_data, train_sln)\n",
        "  curr_predictions = curr_k.predict(test_data)\n",
        "  curr_accuracy = metrics.accuracy_score(test_sln, curr_predictions)\n",
        "  k_accuracies.append(curr_accuracy)\n",
        "\n",
        "# Graphing the results\n",
        "plt.suptitle('KNN Accuracy vs. Value of K',fontsize = 18)\n",
        "plt.xlabel('K Value')\n",
        "plt.ylabel('Accuracy')\n",
        "plt.plot(range_k, k_accuracies,'bo-')\n",
        "plt.axis([0,range_k[-1]+1,.8,1])\n",
        "plt.show()\n",
        "\n",
        "print('The most accurate K value was', max(k_accuracies))"
      ],
      "execution_count": null,
      "outputs": [
        {
          "output_type": "display_data",
          "data": {
            "image/png": "[encoded data removed]",
            "text/plain": [
              "<Figure size 432x288 with 1 Axes>"
            ]
          },
          "metadata": {
            "needs_background": "light"
          }
        },
        {
          "output_type": "stream",
          "name": "stdout",
          "text": [
            "The most accurate K value was 0.9130434782608695\n"
          ]
        }
      ]
    },
    {
      "cell_type": "code",
      "metadata": {
        "colab": {
          "base_uri": "https://localhost:8080/",
          "height": 326
        },
        "id": "pu9MI_VysRts",
        "outputId": "5bc50dba-aa40-47eb-c512-3cbce69b75ce"
      },
      "source": [
        "# What should be the max depth of the decision tree?\n",
        "range_depth = range(1, 50, 5)\n",
        "dt_accuracies = []\n",
        "\n",
        "for depth in range_depth:\n",
        "  curr_depth = tree.DecisionTreeClassifier(max_depth = depth, random_state = 41)\n",
        "  curr_depth.fit(train_data, train_sln)\n",
        "  curr_predictions = curr_depth.predict(test_data)\n",
        "  curr_accuracy = metrics.accuracy_score(test_sln, curr_predictions)\n",
        "  dt_accuracies.append(curr_accuracy)\n",
        "\n",
        "# Graphing the results\n",
        "plt.suptitle('DT Accuracy vs. Value of max_depth',fontsize = 18)\n",
        "plt.xlabel('Max Depth')\n",
        "plt.ylabel('Accuracy')\n",
        "plt.plot(range_depth, dt_accuracies,'rs-')\n",
        "plt.axis([0,range_depth[-1]+1,.8,1])\n",
        "plt.show()\n",
        "\n",
        "print('The most accurate depth was', max(dt_accuracies))"
      ],
      "execution_count": null,
      "outputs": [
        {
          "output_type": "display_data",
          "data": {
            "image/png": "[encoded data removed]",
            "text/plain": [
              "<Figure size 432x288 with 1 Axes>"
            ]
          },
          "metadata": {
            "needs_background": "light"
          }
        },
        {
          "output_type": "stream",
          "name": "stdout",
          "text": [
            "The most accurate depth was 0.8586956521739131\n"
          ]
        }
      ]
    },
    {
      "cell_type": "code",
      "metadata": {
        "colab": {
          "base_uri": "https://localhost:8080/",
          "height": 326
        },
        "id": "N3h_w78jslzS",
        "outputId": "645af76f-fd94-4b47-ff58-637281ee22a5"
      },
      "source": [
        "# What should the max features be for the decision tree?\n",
        "range_features = range(1, 20, 2)\n",
        "dt_accuracies = []\n",
        "\n",
        "for features in range_features:\n",
        "  curr_features = tree.DecisionTreeClassifier(max_features = features, random_state = 41)\n",
        "  curr_features.fit(train_data, train_sln)\n",
        "  curr_predictions = curr_features.predict(test_data)\n",
        "  curr_accuracy = metrics.accuracy_score(test_sln, curr_predictions)\n",
        "  dt_accuracies.append(curr_accuracy)\n",
        "\n",
        "# Graphing the results\n",
        "plt.suptitle('DT Accuracy vs. Value of max_features',fontsize = 18)\n",
        "plt.xlabel('Max Features')\n",
        "plt.ylabel('Accuracy')\n",
        "plt.plot(range_features, dt_accuracies,'rs-')\n",
        "plt.axis([0,range_features[-1]+1,.6,1])\n",
        "plt.show()\n",
        "\n",
        "print('The most accurate features was', max(dt_accuracies))"
      ],
      "execution_count": null,
      "outputs": [
        {
          "output_type": "display_data",
          "data": {
            "image/png": "[encoded data removed]",
            "text/plain": [
              "<Figure size 432x288 with 1 Axes>"
            ]
          },
          "metadata": {
            "needs_background": "light"
          }
        },
        {
          "output_type": "stream",
          "name": "stdout",
          "text": [
            "The most accurate features was 0.8260869565217391\n"
          ]
        }
      ]
    },
    {
      "cell_type": "code",
      "metadata": {
        "colab": {
          "base_uri": "https://localhost:8080/",
          "height": 326
        },
        "id": "SU-ZC4mCU60w",
        "outputId": "60fd4ef7-dec8-4cac-f7cf-9f66addec11b"
      },
      "source": [
        "# How many trees should be in the random forest?\n",
        "range_trees = range(1,100,5)\n",
        "rf_accuracies = []\n",
        "\n",
        "for n in range_trees: # FIlls the list rf_accuracies with the accuracy of random forests with\n",
        "    curr_rf = RandomForestClassifier(n_estimators = n, random_state = 41)\n",
        "    curr_rf.fit(train_data,train_sln)\n",
        "    curr_predictions = curr_rf.predict(test_data)\n",
        "    curr_accuracy = metrics.accuracy_score(test_sln,curr_predictions)\n",
        "    rf_accuracies.append(curr_accuracy)\n",
        "\n",
        "# Graphing the results\n",
        "plt.suptitle('Random Forest accuracy vs. number of trees',fontsize = 18)\n",
        "plt.xlabel('# trees')\n",
        "plt.ylabel('accuracy')\n",
        "plt.plot(range_trees,rf_accuracies,'rs-')\n",
        "plt.axis([0,range_trees[-1]+1,.8,1])\n",
        "\n",
        "plt.show()\n",
        "\n",
        "print('The most accuracate Forest was: ', max(rf_accuracies))"
      ],
      "execution_count": null,
      "outputs": [
        {
          "output_type": "display_data",
          "data": {
            "image/png": "[encoded data removed]",
            "text/plain": [
              "<Figure size 432x288 with 1 Axes>"
            ]
          },
          "metadata": {
            "needs_background": "light"
          }
        },
        {
          "output_type": "stream",
          "name": "stdout",
          "text": [
            "The most accuracate Forest was:  0.8804347826086957\n"
          ]
        }
      ]
    },
    {
      "cell_type": "markdown",
      "metadata": {
        "id": "wAOCA1Q0OWS4"
      },
      "source": [
        "# Bumps in the Road:\n",
        "What challenges did you encounter? How did you overcome these challenges? Did you have to adapt your strategy to account for these challenges? Why or why not?\n",
        "\n",
        "*One of the biggest challenges I encountered was setting up the data. For me it was hard to determine what to normalize, what didn't need to be, and ultimately I think I did a good job by just addressing the ones that stood out to me. When I made the confusion matrices, I had an issue where it was not displaying at all. What I needed to do was change the target column, HeartDisease, into strings rather than binary values. The function was having issues with having integers there. Ultimately I think while I did have to change my strategy slightly, it ended up being better. It makes the data more readable and clear. THe last challenge was deciding what to graph. I decided to stick with what I wanted to know about the data rather than what might be the most informative.*\n"
      ]
    },
    {
      "cell_type": "markdown",
      "metadata": {
        "id": "qBSirz71PG62"
      },
      "source": [
        "# Conclusions\n",
        "What insights/recommendations do you have? What did you find that was interesting? Which model was your best model, which models didn't work well? Why do you think this is? In general, I want a discussion of your experiment, the results, and what they mean.\n",
        "\n",
        "*One insight I picked up from running this experiment is that it can take a lot to prepare data to use. Even though this was one of the cleaner datasets, if not the cleanest, it still require me to put in a good amount of thought and effort into making it usable. I think that what was most interesting was that there was one feature that was incredibly useful in making predictions. That column was ST_Slope_Up, and I looked it up to find out what it meant and found several studies that determined that it was important for determining heart disease and coronary artery disease, which matches what I did here.*\n",
        "\n",
        "*Both models performed well, each getting about 90% accuracy. One thing I was taking a close look at was false positives and false negatives. Ideally false negatives would be minimized, which luckily were in both models. Each time the number of false negatives was lower which was a good sign. In general, I think this experiment was a good way to pull the class together. The experiment went well and was able to give a fairly accurate model of predicting heart disease. What these results mean is that by given basic information about an individual and several heart measurement statistics, a prediction made about if they have heart disease will be made with roughly 90% accuracy.*"
      ]
    }
  ]
}